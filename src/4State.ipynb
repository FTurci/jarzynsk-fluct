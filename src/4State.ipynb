{
 "cells": [
  {
   "cell_type": "markdown",
   "metadata": {},
   "source": [
    "# STORY OF A 4-STATE MODEL"
   ]
  },
  {
   "cell_type": "markdown",
   "metadata": {},
   "source": [
    "Importantly, in our code we will always use these abbreviations:\n",
    "- $t$ for time\n",
    "- $s$ for number of samples\n",
    "- $x, y$ for states\n",
    "- $p$ is always for process\n",
    "- $o$ is always for observable\n",
    "- $b$ is always for bins, when plotting\n",
    "- $do$ and $da$ as respectively the domain and the data that we want to collect (often lists)\n",
    "- $i$, $j$, $k$  as arbitary indices"
   ]
  },
  {
   "cell_type": "code",
   "execution_count": 1,
   "metadata": {},
   "outputs": [],
   "source": [
    "from storymodel import Process, Observe\n",
    "from math import exp, log\n",
    "from matplotlib import pyplot as plt\n"
   ]
  },
  {
   "cell_type": "markdown",
   "metadata": {},
   "source": [
    "## Chapter 4: Jump processes\n",
    "### Initialization\n",
    "State space:"
   ]
  },
  {
   "cell_type": "code",
   "execution_count": 2,
   "metadata": {},
   "outputs": [],
   "source": [
    "state = (0, 1, 2, 3)"
   ]
  },
  {
   "cell_type": "markdown",
   "metadata": {},
   "source": [
    "Input data (rates of Markov process, initial distribution, renormalized):"
   ]
  },
  {
   "cell_type": "code",
   "execution_count": 3,
   "metadata": {},
   "outputs": [],
   "source": [
    "rates = [[0, 1, 3, 2], [2, 0, 4, 1], [1, 2, 0, 5], [1, 1, 2, 0]]\n",
    "start = [1, 1, 1, 1.1]"
   ]
  },
  {
   "cell_type": "markdown",
   "metadata": {},
   "source": [
    "Often we will need to normalize data:"
   ]
  },
  {
   "cell_type": "code",
   "execution_count": 4,
   "metadata": {},
   "outputs": [],
   "source": [
    "def norm(data):    \n",
    "    norm = sum(data)\n",
    "    return [x / norm for x in data]"
   ]
  },
  {
   "cell_type": "markdown",
   "metadata": {},
   "source": [
    "In fact:"
   ]
  },
  {
   "cell_type": "code",
   "execution_count": 5,
   "metadata": {},
   "outputs": [
    {
     "name": "stdout",
     "output_type": "stream",
     "text": [
      "[0.24390243902439027, 0.24390243902439027, 0.24390243902439027, 0.26829268292682934]\n"
     ]
    }
   ],
   "source": [
    "start = norm(start)\n",
    "print(start)"
   ]
  },
  {
   "cell_type": "markdown",
   "metadata": {},
   "source": [
    "Waiting times, derived Markov chain:"
   ]
  },
  {
   "cell_type": "code",
   "execution_count": 6,
   "metadata": {},
   "outputs": [],
   "source": [
    "exits = [sum(rates[x]) for x in state]\n",
    "chain = [[rates[x][y] / exits[x] for y in state] for x in state]"
   ]
  },
  {
   "cell_type": "markdown",
   "metadata": {},
   "source": [
    "Stationary state (allowing numpy):"
   ]
  },
  {
   "cell_type": "code",
   "execution_count": 7,
   "metadata": {},
   "outputs": [],
   "source": [
    "import numpy as np\n",
    "\n",
    "def steady(rates):\n",
    "\n",
    "    exits = [sum(rates[x]) for x in state]\n",
    "    steady = []\n",
    "\n",
    "    for x in state:\n",
    "        R = np.matrix(rates)-np.diag(exits)\n",
    "        R = np.delete(R, x, 0)\n",
    "        R = np.delete(R, x, 1)\n",
    "        steady.append(-np.linalg.det(R))\n",
    "        \n",
    "    steady = [x / sum(steady) for x in steady]\n",
    "\n",
    "    return steady"
   ]
  },
  {
   "cell_type": "markdown",
   "metadata": {},
   "source": [
    "You can now check that the result conforms to the spanning-tree formula:"
   ]
  },
  {
   "cell_type": "code",
   "execution_count": 8,
   "metadata": {},
   "outputs": [
    {
     "name": "stdout",
     "output_type": "stream",
     "text": [
      "[0.1651376146788991, 0.15596330275229361, 0.24770642201834867, 0.43119266055045874]\n"
     ]
    }
   ],
   "source": [
    "print(steady(rates))"
   ]
  },
  {
   "cell_type": "markdown",
   "metadata": {},
   "source": [
    "### Random choices: discrete variables"
   ]
  },
  {
   "cell_type": "markdown",
   "metadata": {},
   "source": [
    "Let's choose an initial state from the initial distribution, taking the uniform distribution in the unit interval as the only ingredient:"
   ]
  },
  {
   "cell_type": "code",
   "execution_count": 9,
   "metadata": {},
   "outputs": [
    {
     "name": "stdout",
     "output_type": "stream",
     "text": [
      "I am in  3\n"
     ]
    }
   ],
   "source": [
    "from random import uniform\n",
    "\n",
    "def x_choice(prob):\n",
    "    \n",
    "    l = len(prob)\n",
    "    s = [sum(prob[0:x]) for x in range(0,l+1)]\n",
    "    y = uniform(0, 1)\n",
    "    for x in range(0,l):\n",
    "        if y >= s[x] and y < s[x+1]:\n",
    "            break\n",
    "    return x\n",
    "\n",
    "print('I am in ', x_choice(start))"
   ]
  },
  {
   "cell_type": "markdown",
   "metadata": {},
   "source": [
    "Let's check that the probability distribution is correct. First we introduce the empirical frequency of a symbol in a list of data:"
   ]
  },
  {
   "cell_type": "code",
   "execution_count": 10,
   "metadata": {},
   "outputs": [],
   "source": [
    "def freq(data):\n",
    "\n",
    "    dic = {}\n",
    "    l = len(data)\n",
    "    for i in data:\n",
    "        dic[i] = dic.get(i, 0) + 1\n",
    "    abscissa, ordinate = [], []\n",
    "    for i in sorted(dic):\n",
    "        abscissa.append(i)\n",
    "        ordinate.append(dic[i] / l)\n",
    "    return abscissa, ordinate"
   ]
  },
  {
   "cell_type": "markdown",
   "metadata": {},
   "source": [
    "Then we generate 10000 initial states and plot their empirical frequency:"
   ]
  },
  {
   "cell_type": "code",
   "execution_count": 11,
   "metadata": {},
   "outputs": [],
   "source": [
    "n = 1000\n",
    "x_list = []\n",
    "\n",
    "for k in range(n):\n",
    "    x_list.append(x_choice(start))\n",
    "\n",
    "x_freq = freq(x_list)"
   ]
  },
  {
   "cell_type": "markdown",
   "metadata": {},
   "source": [
    "Finally we plot them:"
   ]
  },
  {
   "cell_type": "code",
   "execution_count": 12,
   "metadata": {},
   "outputs": [
    {
     "data": {
      "image/png": "[encoded data removed]",
      "text/plain": [
       "<Figure size 432x288 with 1 Axes>"
      ]
     },
     "metadata": {
      "needs_background": "light"
     },
     "output_type": "display_data"
    }
   ],
   "source": [
    "from matplotlib import pyplot as plt\n",
    "\n",
    "plt.bar(x_freq[0], x_freq[1])\n",
    "plt.show()"
   ]
  },
  {
   "cell_type": "markdown",
   "metadata": {},
   "source": [
    "Similarly we can choose where to jump to from given state $x=0$:"
   ]
  },
  {
   "cell_type": "code",
   "execution_count": 13,
   "metadata": {},
   "outputs": [
    {
     "data": {
      "image/png": "[encoded data removed]",
      "text/plain": [
       "<Figure size 432x288 with 1 Axes>"
      ]
     },
     "metadata": {
      "needs_background": "light"
     },
     "output_type": "display_data"
    }
   ],
   "source": [
    "x = 0\n",
    "y_list = []\n",
    "for k in range(n):\n",
    "    y_list.append(x_choice(chain[x]))\n",
    "y_freq = freq(y_list)\n",
    "plt.bar(y_freq[0], y_freq[1])\n",
    "plt.show()"
   ]
  },
  {
   "cell_type": "markdown",
   "metadata": {},
   "source": [
    "These can be compared with the above rates"
   ]
  },
  {
   "cell_type": "markdown",
   "metadata": {},
   "source": [
    "### Random choices: waiting time\n",
    "\n",
    "Similarly we can select the time at random, starting from the uniform distribution, using the inversion method:"
   ]
  },
  {
   "cell_type": "code",
   "execution_count": 14,
   "metadata": {},
   "outputs": [
    {
     "name": "stdout",
     "output_type": "stream",
     "text": [
      "I will wait 0.2587668106302991 seconds in 3 and then jump.\n"
     ]
    }
   ],
   "source": [
    "from math import log, exp, sqrt\n",
    "\n",
    "def t_choice(x, exits):\n",
    "    return log(1 / uniform(0, 1)) / exits[x]\n",
    "\n",
    "x = x_choice(start)\n",
    "t = t_choice(x, exits)\n",
    "\n",
    "print('I will wait', t, 'seconds in', x, 'and then jump.')"
   ]
  },
  {
   "cell_type": "markdown",
   "metadata": {},
   "source": [
    "Let us now generate lots of waiting times at state $x= 0$:"
   ]
  },
  {
   "cell_type": "code",
   "execution_count": 15,
   "metadata": {},
   "outputs": [],
   "source": [
    "t_list = []\n",
    "for k in range(n):\n",
    "    t_list.append(t_choice(0, exits))"
   ]
  },
  {
   "cell_type": "markdown",
   "metadata": {},
   "source": [
    "If we were to visualize them as we did above, we would not obtain something very informative:"
   ]
  },
  {
   "cell_type": "code",
   "execution_count": 16,
   "metadata": {},
   "outputs": [
    {
     "data": {
      "image/png": "[encoded data removed]",
      "text/plain": [
       "<Figure size 432x288 with 1 Axes>"
      ]
     },
     "metadata": {
      "needs_background": "light"
     },
     "output_type": "display_data"
    }
   ],
   "source": [
    "t_freq = freq(t_list)\n",
    "\n",
    "plt.bar(t_freq[0], t_freq[1], 0.001)\n",
    "plt.show()"
   ]
  },
  {
   "cell_type": "markdown",
   "metadata": {},
   "source": [
    "For this reason we need to obtain a continuum distribution:"
   ]
  },
  {
   "cell_type": "code",
   "execution_count": 17,
   "metadata": {},
   "outputs": [],
   "source": [
    "def pdf(data, bins):\n",
    "\n",
    "    dic = {}\n",
    "    l = len(data)\n",
    "    m = max(data)\n",
    "    for i in data:\n",
    "        i = ( (i * bins) // m) * m / bins\n",
    "        dic[i] = dic.get(i, 0) + 1\n",
    "    abscissa, ordinate = [], []\n",
    "    for i in sorted(dic):\n",
    "        abscissa.append(i)\n",
    "        ordinate.append(dic[i] / l * bins / m)\n",
    "    return abscissa, ordinate"
   ]
  },
  {
   "cell_type": "markdown",
   "metadata": {},
   "source": [
    "And now we can plot the waiting time probabilty density function:"
   ]
  },
  {
   "cell_type": "code",
   "execution_count": null,
   "metadata": {},
   "outputs": [],
   "source": [
    "bins = 100\n",
    "t_pdf = pdf(t_list, bins)\n",
    "\n",
    "import numpy as np\n",
    "\n",
    "abscissa, ordinate = [], []\n",
    "\n",
    "for k in range(0, bins):\n",
    "    abscissa.append(k * max(t_list) / bins)\n",
    "    ordinate.append(exits[0] * exp(- exits[0] * abscissa[k]))\n",
    "\n",
    "plt.plot(abscissa, ordinate, color = \"mediumseagreen\")\n",
    "plt.bar(t_pdf[0], t_pdf[1], .005, color = \"darkorange\")\n",
    "plt.show()"
   ]
  },
  {
   "cell_type": "markdown",
   "metadata": {},
   "source": [
    "Often we will be interested in just the mean and variance of a variable, and not the full distribution. Then:"
   ]
  },
  {
   "cell_type": "code",
   "execution_count": null,
   "metadata": {},
   "outputs": [],
   "source": [
    "def mean(data):\n",
    "\n",
    "    return sum(data) / len(data)\n",
    "\n",
    "def variance(data):\n",
    "    \n",
    "    return sum([i ** 2 for i in data]) / len(data) - mean(data) ** 2"
   ]
  },
  {
   "cell_type": "markdown",
   "metadata": {},
   "source": [
    "For example:"
   ]
  },
  {
   "cell_type": "code",
   "execution_count": null,
   "metadata": {},
   "outputs": [],
   "source": [
    "print(mean(t_list))\n",
    "print(variance(t_list))"
   ]
  },
  {
   "cell_type": "markdown",
   "metadata": {},
   "source": [
    "## Chapter 6: Single paths\n",
    "\n",
    "### Coding a trajectory: soujourn times\n",
    "\n",
    "Most often it will be convenient to hard-program the observable of interest into the trajectory being defined. For example, suppose we want to calculate the average time spent at states. Then we can easily do this with:"
   ]
  },
  {
   "cell_type": "code",
   "execution_count": null,
   "metadata": {},
   "outputs": [],
   "source": [
    "def souj(x, n, d = 1):\n",
    "\n",
    "    souj = [0 for y in state]\n",
    "\n",
    "    for k in range(n):\n",
    "        if k % d == 0:\n",
    "            souj[x] += t_choice(x, exits)\n",
    "            x = x_choice(chain[x])\n",
    "\n",
    "    return [x / sum(souj) for x in souj]\n",
    "\n",
    "x = 0\n",
    "n = 10000\n",
    "\n",
    "print(souj(x, n))\n",
    "print(steady(rates))"
   ]
  },
  {
   "cell_type": "markdown",
   "metadata": {},
   "source": [
    "However, we should be careful about numerical errors. There are two sources of error, one systematic and one random."
   ]
  },
  {
   "cell_type": "code",
   "execution_count": null,
   "metadata": {},
   "outputs": [],
   "source": [
    "x = 0\n",
    "n = 100\n",
    "m = 10000\n",
    "s = []\n",
    "\n",
    "for j in range(m):\n",
    "    s.append(souj(x, n)[0])\n",
    "    \n",
    "s_mean = sum(s) / m\n",
    "s_var = sum([i ** 2 for i in s]) / m - s_mean ** 2\n",
    "s_fano = s_var / s_mean\n",
    "\n",
    "print(s_fano)\n"
   ]
  },
  {
   "cell_type": "markdown",
   "metadata": {},
   "source": [
    "But now:"
   ]
  },
  {
   "cell_type": "code",
   "execution_count": null,
   "metadata": {},
   "outputs": [],
   "source": [
    "n = 10000\n",
    "d = 100\n",
    "\n",
    "s = []\n",
    "\n",
    "for j in range(m):\n",
    "    s.append(souj(x, n, d)[0])\n",
    "    \n",
    "s_mean = sum(s) / m\n",
    "s_var = sum([i ** 2 for i in s]) / m - s_mean ** 2\n",
    "s_fano = s_var / s_mean\n",
    "\n",
    "print(s_fano)"
   ]
  },
  {
   "cell_type": "markdown",
   "metadata": {},
   "source": [
    "### Tidying up\n",
    "\n",
    "In fact, later it will be useful to have all of these things as attributes of a process (so that we do not have to recompile the whole notebook all the time...). This is achieved like this:"
   ]
  },
  {
   "cell_type": "markdown",
   "metadata": {},
   "source": [
    "We can check that this works:"
   ]
  },
  {
   "cell_type": "markdown",
   "metadata": {},
   "source": [
    "Let us check how the commutator is doing (this should be come a method in the Process class):"
   ]
  },
  {
   "cell_type": "code",
   "execution_count": null,
   "metadata": {},
   "outputs": [],
   "source": [
    "from storymodel import Process\n",
    "\n",
    "p = Process()\n",
    "\n",
    "print(p.rates, '\\n\\n')\n",
    "print(p.exits, '\\n\\n')\n",
    "print(p.chain, '\\n\\n')\n",
    "print(p.generator, '\\n\\n')\n",
    "print(p.start, '\\n\\n')\n",
    "print(p.steady(), '\\n\\n')"
   ]
  },
  {
   "cell_type": "markdown",
   "metadata": {},
   "source": [
    "Notice that if no argument is given the system takes the uniform rates by default, and the stationary state as initial state. Notice that all of the above are attributes buy steady, which is a method and it has parenthesis (attributes are calculated automatically when calling the class, methods only when called).\n",
    "\n",
    "Furthermore notice that, when specifying rates, as initial state one can give either a state or an array."
   ]
  },
  {
   "cell_type": "code",
   "execution_count": null,
   "metadata": {},
   "outputs": [],
   "source": [
    "p = Process(rates, 2)\n",
    "print(p.start)\n",
    "\n",
    "p = Process(rates, [3, 2, 4, 5])\n",
    "print(p.start)\n"
   ]
  },
  {
   "cell_type": "markdown",
   "metadata": {},
   "source": [
    "### Coding a path and its fundamental observables\n",
    "\n",
    "We finally have all the tools to code the Gillespie algorithm. We consider trajectories both at fixed number of jumps and at finite final time, with the convention that if the argument is integer, it's a number of jumps, otherwise if it is real it is a time:"
   ]
  },
  {
   "cell_type": "code",
   "execution_count": null,
   "metadata": {},
   "outputs": [],
   "source": [
    "def path(n_or_t, p = Process()):\n",
    "    \n",
    "    # una rivoluzione copernicana e listare tutti i tempi e tutti gli stati separatament\n",
    "    # Forse semplifica le cose\n",
    "    \n",
    "    '''Accepts both an integer number of steps or a real-valued final time for stopping.'''\n",
    "    \n",
    "    states = []\n",
    "    times = []\n",
    "    x = x_choice(p.start) if p.type is list else p.init\n",
    "\n",
    "    if type(n_or_t) is int:\n",
    "\n",
    "        for k in range(n_or_t):\n",
    "            \n",
    "            t = t_choice(x, p.exits)\n",
    "            states.append(x)\n",
    "            times.append(t)          \n",
    "            x = x_choice(p.chain[x])  \n",
    "\n",
    "    elif type(n_or_t) is float:\n",
    "        \n",
    "        t_tot = 0\n",
    "        \n",
    "        while t_tot < n_or_t:\n",
    "            t = t_choice(x, p.exits)         \n",
    "            states.append(x)\n",
    "            times.append(t)  \n",
    "            x = x_choice(p.chain[x])\n",
    "            t_tot += t\n",
    "            \n",
    "        times[-1] += n_or_t - t_tot\n",
    "\n",
    "    return states, times"
   ]
  },
  {
   "cell_type": "markdown",
   "metadata": {},
   "source": [
    "You can check the difference here:"
   ]
  },
  {
   "cell_type": "code",
   "execution_count": null,
   "metadata": {},
   "outputs": [],
   "source": [
    "print(path(10), '\\n\\n' , path(10.))"
   ]
  },
  {
   "cell_type": "markdown",
   "metadata": {},
   "source": [
    "The next step is to define the observables along a path. This is also done via an object called Observe, which takes two arguments, the time $t$ and the process $p$ (by default the uniform-rates process), and has the following attributes:"
   ]
  },
  {
   "cell_type": "code",
   "execution_count": null,
   "metadata": {},
   "outputs": [],
   "source": [
    "from storymodel import Observe\n",
    "\n",
    "t = 10.\n",
    "p = Process()\n",
    "o = Observe(t, p)\n",
    "\n",
    "print(o.path, '\\n\\n')\n",
    "print(o.states, '\\n\\n')\n",
    "print(o.times, '\\n\\n')\n",
    "print(o.steps, '\\n\\n')\n",
    "print(o.duration, '\\n\\n')"
   ]
  },
  {
   "cell_type": "markdown",
   "metadata": {},
   "source": [
    "Let's test the soujourn times for example."
   ]
  },
  {
   "cell_type": "code",
   "execution_count": null,
   "metadata": {},
   "outputs": [],
   "source": [
    "t = 1000.\n",
    "p = Process(rates)\n",
    "o = Observe(t, p)\n",
    "\n",
    "print(o.souj())\n",
    "print(p.steady())"
   ]
  },
  {
   "cell_type": "markdown",
   "metadata": {},
   "source": [
    "This code prints the fluxes:"
   ]
  },
  {
   "cell_type": "code",
   "execution_count": null,
   "metadata": {},
   "outputs": [],
   "source": [
    "t = 1000.\n",
    "p = Process(rates)\n",
    "o = Observe(t, p)\n",
    "\n",
    "print(o.fluxes())\n",
    "print(o.currents())\n",
    "\n",
    "print(o.fluxes([(0, 1), (1, 0)]))\n",
    "print(o.currents([(0, 1)]))"
   ]
  },
  {
   "cell_type": "markdown",
   "metadata": {},
   "source": [
    "Let us now check that our survival function works correctly:"
   ]
  },
  {
   "cell_type": "markdown",
   "metadata": {},
   "source": [
    "## Chapter 7: Fluctuations part 1"
   ]
  },
  {
   "cell_type": "markdown",
   "metadata": {},
   "source": [
    "### Observing the fluctuation relations?"
   ]
  },
  {
   "cell_type": "markdown",
   "metadata": {},
   "source": [
    "We now attempt to compute the Jarzynski estimator."
   ]
  },
  {
   "cell_type": "code",
   "execution_count": 19,
   "metadata": {},
   "outputs": [],
   "source": [
    "def jarzy(t, s, p = Process()):\n",
    "\n",
    "    exp_list = []\n",
    "\n",
    "    for k in range(s):\n",
    "    \n",
    "        o = Observe(t, p)\n",
    "        fluxes = o.fluxes()\n",
    "        exp = 1\n",
    "\n",
    "        for k in fluxes:\n",
    "            exp *= (p.rates[k[1]][k[0]] / p.rates[k[0]][k[1]]) ** fluxes[k]\n",
    "\n",
    "        exp_list.append(exp)\n",
    "    \n",
    "    return exp_list"
   ]
  },
  {
   "cell_type": "code",
   "execution_count": null,
   "metadata": {},
   "outputs": [],
   "source": [
    "t = 10.\n",
    "p = Process(rates)\n",
    "s = 10000\n",
    "bins = 100\n",
    "\n",
    "exp_list = jarzy(t, s, p)\n",
    "log_list = [log(x) for x in exp_list]\n",
    "print(sum(exp_list) / s) \n",
    "\n",
    "t_pdf = plt.hist(log_list, bins, density = True)\n",
    "plt.show()"
   ]
  },
  {
   "cell_type": "markdown",
   "metadata": {},
   "source": [
    "Finally we generate estimates:"
   ]
  },
  {
   "cell_type": "code",
   "execution_count": 20,
   "metadata": {},
   "outputs": [
    {
     "data": {
      "image/png": "[encoded data removed]",
      "text/plain": [
       "<Figure size 432x288 with 1 Axes>"
      ]
     },
     "metadata": {
      "needs_background": "light"
     },
     "output_type": "display_data"
    }
   ],
   "source": [
    "t = 20.\n",
    "s = 1000\n",
    "p = Process(rates)\n",
    "trajectories = 7\n",
    "d = [[] for i in range(trajectories)]\n",
    "\n",
    "partialsum = 0\n",
    "\n",
    "for traj in range(trajectories):\n",
    "\n",
    "    partialsum = 0\n",
    "    \n",
    "    for i in range(1, s):\n",
    "    \n",
    "        partialsum += sum(jarzy(t, 1, p))\n",
    "\n",
    "        d[traj].append(partialsum / i)\n",
    "        \n",
    "    plt.plot(range(1, s), d[traj])\n",
    "\n",
    "plt.show()\n"
   ]
  },
  {
   "cell_type": "markdown",
   "metadata": {},
   "source": [
    "### Fluctuation-dissipation theorem\n",
    "\n",
    "We are finally in the position to use this stuff to prove the simplest of all results."
   ]
  },
  {
   "cell_type": "code",
   "execution_count": null,
   "metadata": {},
   "outputs": [],
   "source": [
    "t = 100.\n",
    "samples = 100000\n",
    "\n",
    "half_bins = 40\n",
    "q_max = 10\n",
    "step = q_max / (2 * half_bins)\n",
    "q_range = [(- half_bins + k ) * step for k in range(2 * half_bins + 1)]\n",
    "\n",
    "values, c_values = [], []\n",
    "first = True\n",
    "\n",
    "for q in q_range:\n",
    "    \n",
    "    newrates = [x.copy() for x in rates]\n",
    "    newrates[0][1] *= exp(q)\n",
    "    p = Process(newrates)\n",
    "\n",
    "    currents = []\n",
    "    \n",
    "    for k in range(samples): \n",
    "        o = Observe(p, t)\n",
    "        currents.append(o.currents()[0][1])\n",
    "        \n",
    "    c_var = variance(currents) / t\n",
    "    \n",
    "    if first:\n",
    "        c_mean = mean(currents) / t\n",
    "        first = False\n",
    "        \n",
    "    else:\n",
    "        c_newmean = mean(currents) / t\n",
    "        values.append(-(2 * (c_newmean - c_mean) / c_var) / step))\n",
    "        c_mean = c_newmean\n",
    "        \n",
    "    c_values.append(c_mean)\n",
    "\n",
    "plt.axhline(0, color = 'black')\n",
    "plt.plot(q_range, c_values, 'o')\n",
    "plt.show()\n",
    "\n",
    "plt.axhline(1, color = 'black')\n",
    "q_range.pop(0)\n",
    "plt.plot(q_range, values, 'o')\n",
    "plt.show()\n"
   ]
  },
  {
   "cell_type": "markdown",
   "metadata": {},
   "source": [
    "## Chapter 11: Cloning, adapting, and all that"
   ]
  },
  {
   "cell_type": "markdown",
   "metadata": {},
   "source": [
    "### Importance sampling"
   ]
  },
  {
   "cell_type": "markdown",
   "metadata": {},
   "source": [
    "For a given process and a given number of iterations, samples, and small time interval, this function returns the estimator of the SCGF at some value $q$, and the estimator of the final population."
   ]
  },
  {
   "cell_type": "code",
   "execution_count": null,
   "metadata": {},
   "outputs": [],
   "source": [
    "def scgf_clone(p, q, t, iterations, samples, a = 0, b = 1):\n",
    "\n",
    "    clones = exp(t * p.rates[a][b] * (exp(q) - 1))\n",
    "    p.rates[a][b] = p.rates[a][b] * exp(q)\n",
    "    \n",
    "    estimator = 0\n",
    "\n",
    "    for j in range(iterations):\n",
    "\n",
    "        p = Process(p.rates, p.start)\n",
    "        \n",
    "        occupation = [0, 0, 0, 0]\n",
    "        \n",
    "        for k in range(samples):\n",
    "            \n",
    "            o = Observe(t, p)\n",
    "            x = o.states[-1]\n",
    "            occupation[x] += 1\n",
    "\n",
    "        occupation = [x / samples for x in occupation]    \n",
    "        occupation[a] *= clones           \n",
    "        norm = sum(occupation)\n",
    "        estimator += log(norm)\n",
    "        \n",
    "        p.start = [x / norm for x in occupation]\n",
    "                   \n",
    "    return estimator / (t * iterations), p.start\n",
    "\n",
    "\n",
    "def scgf_estimate(p, q, t, s, transitions = [(0, 1)], weights = [1]):\n",
    "    \n",
    "    estimator = 0\n",
    "    \n",
    "    for k in range(s):\n",
    "        o = Observe(t, p)\n",
    "        fluxes = o.fluxes(transitions)\n",
    "        \n",
    "        for j in fluxes:\n",
    "            i = transitions.index(j)\n",
    "            estimator += exp(q * weights[i] * fluxes[j]) / samples\n",
    "        \n",
    "    return log(estimator) / t\n",
    "    \n",
    "    "
   ]
  },
  {
   "cell_type": "markdown",
   "metadata": {},
   "source": [
    "To compare results with the analytical expression, we solve for the dominant eigenvalue of the SCGF:"
   ]
  },
  {
   "cell_type": "markdown",
   "metadata": {},
   "source": [
    "We now employ the function:"
   ]
  },
  {
   "cell_type": "raw",
   "metadata": {},
   "source": [
    "rates = [[0, 3, 2, 1], [1, 0, 2, 4], [3, 1, 0, 2], [1, 1, 1, 0]]\n",
    "t = .01\n",
    "iterations = 100\n",
    "samples = 100\n",
    "\n",
    "half_bins = 10\n",
    "q_max = 10\n",
    "step = q_max / (2 * half_bins)\n",
    "q_range = [(- half_bins + k ) * step for k in range(2 * half_bins + 1)]"
   ]
  },
  {
   "cell_type": "raw",
   "metadata": {},
   "source": [
    "scgf1, scgf2, scgf3 = [], [], []\n",
    "\n",
    "p = Process(rates)\n",
    "\n",
    "for q in q_range:\n",
    "    \n",
    "    estimator1 = scgf_estimate(p, q, t * iterations, samples)\n",
    "    estimator2, start = scgf_clone(p, q, t, iterations, samples)\n",
    "    estimator3 = p.scgf(q)\n",
    "    \n",
    "    scgf1.append(estimator1)\n",
    "    scgf2.append(estimator2)\n",
    "    scgf3.append(estimator3)\n",
    "\n",
    "    p = Process(rates, start)\n"
   ]
  },
  {
   "cell_type": "raw",
   "metadata": {},
   "source": [
    "samples = 100\n",
    "\n",
    "scgf4 = []\n",
    "\n",
    "p = Process(rates)\n",
    "\n",
    "for q in q_range:\n",
    "\n",
    "    estimator4, start = scgf_clone(p, q, t, iterations, samples)\n",
    "\n",
    "    scgf4.append(estimator4)\n",
    "\n",
    "    p = Process(rates, start)"
   ]
  },
  {
   "cell_type": "raw",
   "metadata": {},
   "source": [
    "plt.plot(q_range, scgf1, 'o')\n",
    "plt.plot(q_range, scgf2, '+')\n",
    "plt.plot(q_range, scgf4, 'b+')\n",
    "plt.plot(q_range, scgf3)\n",
    "plt.show()\n",
    "\n"
   ]
  },
  {
   "cell_type": "markdown",
   "metadata": {},
   "source": [
    "Let's also plot the normalized commutator"
   ]
  },
  {
   "cell_type": "raw",
   "metadata": {},
   "source": [
    "comm = []\n",
    "\n",
    "for q in q_range:\n",
    "\n",
    "    comm.append(p.normcomm(q))\n",
    "    \n",
    "plt.plot(q_range, comm)\n",
    "plt.show()\n",
    "    "
   ]
  },
  {
   "cell_type": "markdown",
   "metadata": {},
   "source": [
    "The systematic error is becoming more and more important where the algorithm is required to perform better. For this reason it is preferred to choose another measure."
   ]
  },
  {
   "cell_type": "markdown",
   "metadata": {},
   "source": [
    "# Adaptive sampling"
   ]
  },
  {
   "cell_type": "raw",
   "metadata": {},
   "source": [
    "def sample(p, q, t, iterations, samples, a = 0, b = 1):\n",
    "\n",
    "    rates[a][b] = p.rates[a][b] * exp(q)\n",
    "    rates = [[rates[x][y] * p.lvect[y] / p.lvect[x] for x in state] for y in state]\n",
    "    start = [p.start[x] * p.lvec[x] for x in state]\n",
    "\n",
    "    estimator = []\n",
    "    \n",
    "    for j in range(iterations):\n",
    "        \n",
    "        p2 = Process(rates, start)\n",
    "        p2.set_lvec()\n",
    "        propagator = [[0 for x in state] for y in state]\n",
    "        \n",
    "        for k in range(samples):\n",
    "            \n",
    "            o = Observe(p2, t)\n",
    "            x = o.path[0][0]\n",
    "            y = o.path[-1][0]\n",
    "            propagator[x][y] += 1 / sample # normalization \n",
    " \n",
    "        p2.lvec = [sum([p.lvec[y] * propagator[x][y] for y in state]) for x in state]\n",
    "    \n",
    "        # but here it would be much more interesting to replace p2.lvec!\n",
    "\n",
    "        clones = [exp(t * (p2.exits[x] - p.exits[x])) / p.lvec[x] for x in state]\n",
    "\n",
    "        occupation = norm([occupation[x] * clones[x] for x in state])\n",
    "\n",
    "    \n",
    "    return estimator / (t * iterations), p2.start, p2.lvec\n"
   ]
  },
  {
   "cell_type": "raw",
   "metadata": {},
   "source": [
    "\n",
    "\n",
    "genfun = []\n",
    "\n",
    "\n",
    "p = Process(rates)\n",
    "p.set_lvec()\n",
    "\n",
    "\n",
    "\n",
    "\n",
    "for q in q_range:\n",
    "    \n",
    "    estimator, newstart = clone(p, q, t, iterations, samples)\n",
    "    genfun.append(estimator)\n",
    "    p = Process(rates, newstart)\n",
    "\n",
    "plt.plot(q_range, genfun, 'o')\n",
    "plt.show()\n",
    "\n",
    "\n"
   ]
  },
  {
   "cell_type": "markdown",
   "metadata": {},
   "source": [
    "## Chapter 14: Survival and first-transition time probabilities\n",
    "\n",
    "First we estimate the survival probability of being at a steate $y$ at time $t$, starting from state $x$, and assuming that the transition $0 \\to 1$ does not occur. We do this by first defining the function:"
   ]
  },
  {
   "cell_type": "raw",
   "metadata": {},
   "source": [
    "def emp_tabooprop(rates, t, s, taboo = [(0, 1)]):\n",
    "    \n",
    "    '''Estimates the taboo propagator at time t stochastically'''\n",
    "\n",
    "    taboopropagator = [[0 for x in state] for y in state]\n",
    "    \n",
    "    for x in state:       \n",
    "        \n",
    "        p = Process(rates, x)    \n",
    "        for k in range(s):\n",
    "            o = Observe(t, p)\n",
    "            if o.fluxes(taboo) == {}:\n",
    "                taboopropagator[x][o.states[-1]] += 1\n",
    "                \n",
    "    return [[taboopropagator[x][y] / s for x in state] for y in state]"
   ]
  },
  {
   "cell_type": "markdown",
   "metadata": {},
   "source": [
    "Also, we will compare to theoretical prediction $\\exp tS$, where $S$ is the matrix obtained by setting to zero the off-diagonal entries that correspond to the taboo transitions:"
   ]
  },
  {
   "cell_type": "raw",
   "metadata": {},
   "source": [
    "def tabooprop(rates, t, transitions = [(0, 1)]):\n",
    "    \n",
    "    '''Calculates the taboo propagator at time t numerically'''\n",
    "\n",
    "    \n",
    "    p.set_taboo(transitions)\n",
    "    \n",
    "    from scipy.linalg import expm\n",
    "    \n",
    "    t_generator = [[t * p.taboo[x][y] for y in state] for x in state]\n",
    "        \n",
    "    return expm(t_generator)\n"
   ]
  },
  {
   "cell_type": "markdown",
   "metadata": {},
   "source": [
    "Now we can estimate the survival probabilibites and compare to theory:"
   ]
  },
  {
   "cell_type": "raw",
   "metadata": {},
   "source": [
    "t = 1.\n",
    "s = 100000\n",
    "\n",
    "emp = np.array(emp_tabooprop(rates, t, s))\n",
    "cal = tabooprop(rates, t)\n",
    "\n",
    "print(emp)\n",
    "print(cal)\n"
   ]
  },
  {
   "cell_type": "markdown",
   "metadata": {},
   "source": [
    "Let us now focus on first transition times. Now we calculate the time $t$ that it takes time for transition $0 \\to 1$ to occur for the first time."
   ]
  },
  {
   "cell_type": "raw",
   "metadata": {},
   "source": [
    "def emp_transtime(p = Process(), transitions = [(0, 1)]):\n",
    "    \n",
    "    '''Calculates the time it takes to perform any of the transitions for the first time\n",
    "    and which transition has been performed'''\n",
    "\n",
    "    t = 0\n",
    "    x = x_choice(p.start)\n",
    "\n",
    "    while True:\n",
    "        y = x\n",
    "        t += t_choice(x, p.exits)\n",
    "        x = x_choice(p.chain[y])\n",
    "        if (y, x) in transitions:\n",
    "            return t, (y, x)"
   ]
  },
  {
   "cell_type": "markdown",
   "metadata": {},
   "source": [
    "Let us now visualize both:"
   ]
  },
  {
   "cell_type": "raw",
   "metadata": {},
   "source": [
    "s = 100000\n",
    "bins = 1000\n",
    "x = 2\n",
    "transitions = [(0, 1)]\n",
    "\n",
    "p = Process(rates, x)\n",
    "\n",
    "# We generate the stochastic normalized histogram:\n",
    "\n",
    "t_list = [emp_transtime(p, transitions)[0] for k in range(s)]\n",
    "t_pdf = plt.hist(t_list, bins, density = True)\n",
    "\n",
    "# We generate the matrix exponential prediction curve\n",
    "\n",
    "from scipy.linalg import expm\n",
    "\n",
    "p.set_taboo(transitions)\n",
    "tmax = max(t_list)\n",
    "abscissa, ordinate = [], []\n",
    "norm = 0    \n",
    "\n",
    "for k in range(bins):\n",
    "\n",
    "    t = k * tmax / bins\n",
    "    tgen = [[t * p.taboo[x][y] for y in state] for x in state]\n",
    "    prop = expm(tgen)[x, 0]\n",
    "    norm += prop * tmax / bins\n",
    "    abscissa.append(t)\n",
    "    ordinate.append(prop)\n",
    "\n",
    "ordinate = [k / norm for k in ordinate]\n",
    "plt.plot(abscissa, ordinate, color ='tab:orange')\n",
    "\n",
    "# Finally we visualize data:\n",
    "\n",
    "plt.xlim([0, tmax / 2])\n",
    "plt.show()"
   ]
  },
  {
   "cell_type": "markdown",
   "metadata": {},
   "source": [
    "We can also confirm that the normalization is correct:"
   ]
  },
  {
   "cell_type": "raw",
   "metadata": {},
   "source": [
    "print(1 / norm)\n",
    "print(rates[0][1])"
   ]
  },
  {
   "cell_type": "code",
   "execution_count": null,
   "metadata": {},
   "outputs": [],
   "source": []
  },
  {
   "cell_type": "code",
   "execution_count": null,
   "metadata": {},
   "outputs": [],
   "source": []
  },
  {
   "cell_type": "code",
   "execution_count": null,
   "metadata": {},
   "outputs": [],
   "source": []
  },
  {
   "cell_type": "markdown",
   "metadata": {},
   "source": [
    "### Cycle times"
   ]
  },
  {
   "cell_type": "raw",
   "metadata": {},
   "source": [
    "p = Process()\n",
    "o = Observe(100., p)\n",
    "\n",
    "print(o.cycle('0123'))"
   ]
  },
  {
   "cell_type": "code",
   "execution_count": null,
   "metadata": {},
   "outputs": [],
   "source": []
  },
  {
   "cell_type": "code",
   "execution_count": null,
   "metadata": {},
   "outputs": [],
   "source": []
  },
  {
   "cell_type": "code",
   "execution_count": null,
   "metadata": {},
   "outputs": [],
   "source": []
  },
  {
   "cell_type": "code",
   "execution_count": null,
   "metadata": {},
   "outputs": [],
   "source": []
  },
  {
   "cell_type": "code",
   "execution_count": null,
   "metadata": {},
   "outputs": [],
   "source": []
  },
  {
   "cell_type": "markdown",
   "metadata": {},
   "source": [
    "## Outdated stuff"
   ]
  },
  {
   "cell_type": "raw",
   "metadata": {},
   "source": [
    "    \n",
    "    def survive(self, y = 0, taboo = [(0, 1)]):\n",
    "        \n",
    "        '''Returns True if the path did not pass through any of the taboo transitions and is found at y\n",
    "        Taboo must be a list of avoided transitions like [(0, 1), (3, 2)] for 0 -> 1, 3 -> 2'''\n",
    "        \n",
    "        if self.states[-1] != y:        \n",
    "            return False\n",
    "        \n",
    "        else:\n",
    "            fluxes = o.fluxes(taboo)\n",
    "            if fluxes != {}:\n",
    "                return False\n",
    "            else:\n",
    "                return True\n",
    "    \n",
    "t = 1.\n",
    "p = Process(rates)\n",
    "o = Observe(t, p)\n",
    "taboo = [(0, 1)]\n",
    "\n",
    "print(o.fluxes(taboo))\n",
    "print(o.states[-1])\n",
    "print(o.survive(1))\n",
    "\n",
    "n = 0\n",
    "\n",
    "for k in range(1000):\n",
    "    \n",
    "    o = Observe(t, p)\n",
    "    if o.survive(3):\n",
    "        n += 1\n",
    "        \n",
    "print(n)"
   ]
  },
  {
   "cell_type": "markdown",
   "metadata": {},
   "source": [
    "This is outdated now:"
   ]
  },
  {
   "cell_type": "raw",
   "metadata": {},
   "source": [
    "\n",
    "    def transtimes(self, l, r):\n",
    "    \n",
    "        dic = { (l, l): [],\n",
    "                (l, r): [],\n",
    "                (r, l): [],\n",
    "                (r, r): []  }\n",
    "        on = False\n",
    "        t = 0\n",
    "        \n",
    "        for k in range(self.length-1):\n",
    "        \n",
    "            x = self.path[k][0]\n",
    "            y = self.path[k+1][0]\n",
    "        \n",
    "            if on:\n",
    "                t += self.path[k][1]\n",
    "                \n",
    "            if x in (l, r) and y in (l, r):\n",
    "                if not on:\n",
    "                    on = True\n",
    "                else:      \n",
    "                    dic[(z, x)].append(t)\n",
    "                    t = 0\n",
    "                z = x\n",
    "                \n",
    "        return dic\n"
   ]
  }
 ],
 "metadata": {
  "kernelspec": {
   "display_name": "Python 3",
   "language": "python",
   "name": "python3"
  },
  "language_info": {
   "codemirror_mode": {
    "name": "ipython",
    "version": 3
   },
   "file_extension": ".py",
   "mimetype": "text/x-python",
   "name": "python",
   "nbconvert_exporter": "python",
   "pygments_lexer": "ipython3",
   "version": "3.7.1"
  }
 },
 "nbformat": 4,
 "nbformat_minor": 4
}
